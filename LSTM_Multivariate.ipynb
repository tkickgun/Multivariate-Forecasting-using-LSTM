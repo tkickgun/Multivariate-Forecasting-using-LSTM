{
 "cells": [
  {
   "cell_type": "code",
   "execution_count": 106,
   "metadata": {},
   "outputs": [],
   "source": [
    "import pandas as pd\n",
    "import numpy as np\n",
    "\n",
    "import matplotlib.pyplot as plt\n",
    "import seaborn as sns\n",
    "\n",
    "import keras\n",
    "from keras.models import Sequential\n",
    "from keras.layers import Dense, Dropout, LSTM\n",
    "\n",
    "from sklearn.metrics import root_mean_squared_error\n",
    "from sklearn.preprocessing import StandardScaler\n",
    "\n",
    "import yfinance as yf"
   ]
  },
  {
   "cell_type": "code",
   "execution_count": 107,
   "metadata": {},
   "outputs": [
    {
     "name": "stderr",
     "output_type": "stream",
     "text": [
      "[*********************100%***********************]  1 of 1 completed\n"
     ]
    }
   ],
   "source": [
    "# Download the stock price data from yahoo finance\n",
    "df = yf.download('GE','1970-01-02','2020-11-01')"
   ]
  },
  {
   "cell_type": "code",
   "execution_count": 108,
   "metadata": {},
   "outputs": [
    {
     "data": {
      "text/html": [
       "<div>\n",
       "<style scoped>\n",
       "    .dataframe tbody tr th:only-of-type {\n",
       "        vertical-align: middle;\n",
       "    }\n",
       "\n",
       "    .dataframe tbody tr th {\n",
       "        vertical-align: top;\n",
       "    }\n",
       "\n",
       "    .dataframe thead tr th {\n",
       "        text-align: left;\n",
       "    }\n",
       "\n",
       "    .dataframe thead tr:last-of-type th {\n",
       "        text-align: right;\n",
       "    }\n",
       "</style>\n",
       "<table border=\"1\" class=\"dataframe\">\n",
       "  <thead>\n",
       "    <tr>\n",
       "      <th>Price</th>\n",
       "      <th>Adj Close</th>\n",
       "      <th>Close</th>\n",
       "      <th>High</th>\n",
       "      <th>Low</th>\n",
       "      <th>Open</th>\n",
       "      <th>Volume</th>\n",
       "    </tr>\n",
       "    <tr>\n",
       "      <th>Ticker</th>\n",
       "      <th>GE</th>\n",
       "      <th>GE</th>\n",
       "      <th>GE</th>\n",
       "      <th>GE</th>\n",
       "      <th>GE</th>\n",
       "      <th>GE</th>\n",
       "    </tr>\n",
       "    <tr>\n",
       "      <th>Date</th>\n",
       "      <th></th>\n",
       "      <th></th>\n",
       "      <th></th>\n",
       "      <th></th>\n",
       "      <th></th>\n",
       "      <th></th>\n",
       "    </tr>\n",
       "  </thead>\n",
       "  <tbody>\n",
       "    <tr>\n",
       "      <th>1970-01-02</th>\n",
       "      <td>0.782726</td>\n",
       "      <td>3.825214</td>\n",
       "      <td>3.875135</td>\n",
       "      <td>3.818974</td>\n",
       "      <td>3.868895</td>\n",
       "      <td>464732</td>\n",
       "    </tr>\n",
       "    <tr>\n",
       "      <th>1970-01-05</th>\n",
       "      <td>0.778895</td>\n",
       "      <td>3.806493</td>\n",
       "      <td>3.843934</td>\n",
       "      <td>3.775292</td>\n",
       "      <td>3.825214</td>\n",
       "      <td>849338</td>\n",
       "    </tr>\n",
       "    <tr>\n",
       "      <th>1970-01-06</th>\n",
       "      <td>0.755911</td>\n",
       "      <td>3.694170</td>\n",
       "      <td>3.800253</td>\n",
       "      <td>3.675450</td>\n",
       "      <td>3.800253</td>\n",
       "      <td>711120</td>\n",
       "    </tr>\n",
       "    <tr>\n",
       "      <th>1970-01-07</th>\n",
       "      <td>0.759742</td>\n",
       "      <td>3.712891</td>\n",
       "      <td>3.762812</td>\n",
       "      <td>3.706651</td>\n",
       "      <td>3.706651</td>\n",
       "      <td>923455</td>\n",
       "    </tr>\n",
       "    <tr>\n",
       "      <th>1970-01-08</th>\n",
       "      <td>0.766126</td>\n",
       "      <td>3.744092</td>\n",
       "      <td>3.781533</td>\n",
       "      <td>3.725371</td>\n",
       "      <td>3.725371</td>\n",
       "      <td>2788393</td>\n",
       "    </tr>\n",
       "  </tbody>\n",
       "</table>\n",
       "</div>"
      ],
      "text/plain": [
       "Price      Adj Close     Close      High       Low      Open   Volume\n",
       "Ticker            GE        GE        GE        GE        GE       GE\n",
       "Date                                                                 \n",
       "1970-01-02  0.782726  3.825214  3.875135  3.818974  3.868895   464732\n",
       "1970-01-05  0.778895  3.806493  3.843934  3.775292  3.825214   849338\n",
       "1970-01-06  0.755911  3.694170  3.800253  3.675450  3.800253   711120\n",
       "1970-01-07  0.759742  3.712891  3.762812  3.706651  3.706651   923455\n",
       "1970-01-08  0.766126  3.744092  3.781533  3.725371  3.725371  2788393"
      ]
     },
     "execution_count": 108,
     "metadata": {},
     "output_type": "execute_result"
    }
   ],
   "source": [
    "# Note that there's a multi-index\n",
    "df.head()"
   ]
  },
  {
   "cell_type": "code",
   "execution_count": 109,
   "metadata": {},
   "outputs": [
    {
     "data": {
      "text/plain": [
       "MultiIndex([('Adj Close', 'GE'),\n",
       "            (    'Close', 'GE'),\n",
       "            (     'High', 'GE'),\n",
       "            (      'Low', 'GE'),\n",
       "            (     'Open', 'GE'),\n",
       "            (   'Volume', 'GE')],\n",
       "           names=['Price', 'Ticker'])"
      ]
     },
     "execution_count": 109,
     "metadata": {},
     "output_type": "execute_result"
    }
   ],
   "source": [
    "df.columns"
   ]
  },
  {
   "cell_type": "code",
   "execution_count": 110,
   "metadata": {},
   "outputs": [
    {
     "data": {
      "text/html": [
       "<div>\n",
       "<style scoped>\n",
       "    .dataframe tbody tr th:only-of-type {\n",
       "        vertical-align: middle;\n",
       "    }\n",
       "\n",
       "    .dataframe tbody tr th {\n",
       "        vertical-align: top;\n",
       "    }\n",
       "\n",
       "    .dataframe thead th {\n",
       "        text-align: right;\n",
       "    }\n",
       "</style>\n",
       "<table border=\"1\" class=\"dataframe\">\n",
       "  <thead>\n",
       "    <tr style=\"text-align: right;\">\n",
       "      <th>Price</th>\n",
       "      <th>Adj Close</th>\n",
       "      <th>Close</th>\n",
       "      <th>High</th>\n",
       "      <th>Low</th>\n",
       "      <th>Open</th>\n",
       "      <th>Volume</th>\n",
       "    </tr>\n",
       "    <tr>\n",
       "      <th>Date</th>\n",
       "      <th></th>\n",
       "      <th></th>\n",
       "      <th></th>\n",
       "      <th></th>\n",
       "      <th></th>\n",
       "      <th></th>\n",
       "    </tr>\n",
       "  </thead>\n",
       "  <tbody>\n",
       "    <tr>\n",
       "      <th>1970-01-02</th>\n",
       "      <td>0.782726</td>\n",
       "      <td>3.825214</td>\n",
       "      <td>3.875135</td>\n",
       "      <td>3.818974</td>\n",
       "      <td>3.868895</td>\n",
       "      <td>464732</td>\n",
       "    </tr>\n",
       "    <tr>\n",
       "      <th>1970-01-05</th>\n",
       "      <td>0.778895</td>\n",
       "      <td>3.806493</td>\n",
       "      <td>3.843934</td>\n",
       "      <td>3.775292</td>\n",
       "      <td>3.825214</td>\n",
       "      <td>849338</td>\n",
       "    </tr>\n",
       "    <tr>\n",
       "      <th>1970-01-06</th>\n",
       "      <td>0.755911</td>\n",
       "      <td>3.694170</td>\n",
       "      <td>3.800253</td>\n",
       "      <td>3.675450</td>\n",
       "      <td>3.800253</td>\n",
       "      <td>711120</td>\n",
       "    </tr>\n",
       "    <tr>\n",
       "      <th>1970-01-07</th>\n",
       "      <td>0.759742</td>\n",
       "      <td>3.712891</td>\n",
       "      <td>3.762812</td>\n",
       "      <td>3.706651</td>\n",
       "      <td>3.706651</td>\n",
       "      <td>923455</td>\n",
       "    </tr>\n",
       "    <tr>\n",
       "      <th>1970-01-08</th>\n",
       "      <td>0.766126</td>\n",
       "      <td>3.744092</td>\n",
       "      <td>3.781533</td>\n",
       "      <td>3.725371</td>\n",
       "      <td>3.725371</td>\n",
       "      <td>2788393</td>\n",
       "    </tr>\n",
       "  </tbody>\n",
       "</table>\n",
       "</div>"
      ],
      "text/plain": [
       "Price       Adj Close     Close      High       Low      Open   Volume\n",
       "Date                                                                  \n",
       "1970-01-02   0.782726  3.825214  3.875135  3.818974  3.868895   464732\n",
       "1970-01-05   0.778895  3.806493  3.843934  3.775292  3.825214   849338\n",
       "1970-01-06   0.755911  3.694170  3.800253  3.675450  3.800253   711120\n",
       "1970-01-07   0.759742  3.712891  3.762812  3.706651  3.706651   923455\n",
       "1970-01-08   0.766126  3.744092  3.781533  3.725371  3.725371  2788393"
      ]
     },
     "execution_count": 110,
     "metadata": {},
     "output_type": "execute_result"
    }
   ],
   "source": [
    "# Settting the column names appropriately\n",
    "df.columns = df.columns.get_level_values(0)\n",
    "df.head()"
   ]
  },
  {
   "cell_type": "code",
   "execution_count": 111,
   "metadata": {},
   "outputs": [
    {
     "data": {
      "text/html": [
       "<div>\n",
       "<style scoped>\n",
       "    .dataframe tbody tr th:only-of-type {\n",
       "        vertical-align: middle;\n",
       "    }\n",
       "\n",
       "    .dataframe tbody tr th {\n",
       "        vertical-align: top;\n",
       "    }\n",
       "\n",
       "    .dataframe thead th {\n",
       "        text-align: right;\n",
       "    }\n",
       "</style>\n",
       "<table border=\"1\" class=\"dataframe\">\n",
       "  <thead>\n",
       "    <tr style=\"text-align: right;\">\n",
       "      <th>Price</th>\n",
       "      <th>Date</th>\n",
       "      <th>Adj Close</th>\n",
       "      <th>Close</th>\n",
       "      <th>High</th>\n",
       "      <th>Low</th>\n",
       "      <th>Open</th>\n",
       "      <th>Volume</th>\n",
       "    </tr>\n",
       "  </thead>\n",
       "  <tbody>\n",
       "    <tr>\n",
       "      <th>0</th>\n",
       "      <td>1970-01-02</td>\n",
       "      <td>0.782726</td>\n",
       "      <td>3.825214</td>\n",
       "      <td>3.875135</td>\n",
       "      <td>3.818974</td>\n",
       "      <td>3.868895</td>\n",
       "      <td>464732</td>\n",
       "    </tr>\n",
       "    <tr>\n",
       "      <th>1</th>\n",
       "      <td>1970-01-05</td>\n",
       "      <td>0.778895</td>\n",
       "      <td>3.806493</td>\n",
       "      <td>3.843934</td>\n",
       "      <td>3.775292</td>\n",
       "      <td>3.825214</td>\n",
       "      <td>849338</td>\n",
       "    </tr>\n",
       "    <tr>\n",
       "      <th>2</th>\n",
       "      <td>1970-01-06</td>\n",
       "      <td>0.755911</td>\n",
       "      <td>3.694170</td>\n",
       "      <td>3.800253</td>\n",
       "      <td>3.675450</td>\n",
       "      <td>3.800253</td>\n",
       "      <td>711120</td>\n",
       "    </tr>\n",
       "    <tr>\n",
       "      <th>3</th>\n",
       "      <td>1970-01-07</td>\n",
       "      <td>0.759742</td>\n",
       "      <td>3.712891</td>\n",
       "      <td>3.762812</td>\n",
       "      <td>3.706651</td>\n",
       "      <td>3.706651</td>\n",
       "      <td>923455</td>\n",
       "    </tr>\n",
       "    <tr>\n",
       "      <th>4</th>\n",
       "      <td>1970-01-08</td>\n",
       "      <td>0.766126</td>\n",
       "      <td>3.744092</td>\n",
       "      <td>3.781533</td>\n",
       "      <td>3.725371</td>\n",
       "      <td>3.725371</td>\n",
       "      <td>2788393</td>\n",
       "    </tr>\n",
       "  </tbody>\n",
       "</table>\n",
       "</div>"
      ],
      "text/plain": [
       "Price       Date  Adj Close     Close      High       Low      Open   Volume\n",
       "0     1970-01-02   0.782726  3.825214  3.875135  3.818974  3.868895   464732\n",
       "1     1970-01-05   0.778895  3.806493  3.843934  3.775292  3.825214   849338\n",
       "2     1970-01-06   0.755911  3.694170  3.800253  3.675450  3.800253   711120\n",
       "3     1970-01-07   0.759742  3.712891  3.762812  3.706651  3.706651   923455\n",
       "4     1970-01-08   0.766126  3.744092  3.781533  3.725371  3.725371  2788393"
      ]
     },
     "execution_count": 111,
     "metadata": {},
     "output_type": "execute_result"
    }
   ],
   "source": [
    "df.reset_index(inplace=True)\n",
    "df.head()"
   ]
  },
  {
   "cell_type": "code",
   "execution_count": 112,
   "metadata": {},
   "outputs": [
    {
     "name": "stdout",
     "output_type": "stream",
     "text": [
      "<class 'pandas.core.frame.DataFrame'>\n",
      "RangeIndex: 12824 entries, 0 to 12823\n",
      "Data columns (total 7 columns):\n",
      " #   Column     Non-Null Count  Dtype         \n",
      "---  ------     --------------  -----         \n",
      " 0   Date       12824 non-null  datetime64[ns]\n",
      " 1   Adj Close  12824 non-null  float64       \n",
      " 2   Close      12824 non-null  float64       \n",
      " 3   High       12824 non-null  float64       \n",
      " 4   Low        12824 non-null  float64       \n",
      " 5   Open       12824 non-null  float64       \n",
      " 6   Volume     12824 non-null  int64         \n",
      "dtypes: datetime64[ns](1), float64(5), int64(1)\n",
      "memory usage: 701.4 KB\n"
     ]
    }
   ],
   "source": [
    "df.Date = pd.to_datetime(df.Date)\n",
    "df.info()"
   ]
  },
  {
   "cell_type": "markdown",
   "metadata": {},
   "source": [
    "**We are trying to predict the stock opening price based on all attributes, considering a 14-day moving window**"
   ]
  },
  {
   "cell_type": "code",
   "execution_count": 113,
   "metadata": {},
   "outputs": [],
   "source": [
    "# Need to scale the data since some activation functions don't perform well on extreme values, note that scaler model is trained to scale 5 columns simultaneously\n",
    "\n",
    "scaler = StandardScaler()\n",
    "scaled_data = scaler.fit_transform(df.iloc[:,1:6])"
   ]
  },
  {
   "cell_type": "code",
   "execution_count": 114,
   "metadata": {},
   "outputs": [
    {
     "data": {
      "text/plain": [
       "array([[-0.97633435, -0.97419734, -0.97387795, -0.97414312, -0.97377977],\n",
       "       [-0.97641926, -0.97447595, -0.9743373 , -0.97480081, -0.97442991],\n",
       "       [-0.9769287 , -0.9761476 , -0.97498038, -0.97630405, -0.97480142],\n",
       "       ...,\n",
       "       [-0.18725378, -0.48073645, -0.45418243, -0.47558053, -0.4742542 ],\n",
       "       [-0.19268794, -0.48444528, -0.46298769, -0.48308473, -0.46312687],\n",
       "       [-0.18725378, -0.48073645, -0.47766321, -0.48458556, -0.48686523]])"
      ]
     },
     "execution_count": 114,
     "metadata": {},
     "output_type": "execute_result"
    }
   ],
   "source": [
    "scaled_data"
   ]
  },
  {
   "cell_type": "code",
   "execution_count": 115,
   "metadata": {},
   "outputs": [
    {
     "data": {
      "text/plain": [
       "np.float64(-0.9763811917512408)"
      ]
     },
     "execution_count": 115,
     "metadata": {},
     "output_type": "execute_result"
    }
   ],
   "source": [
    "# What is standardization? Take a value and subtract the mean of the column and divide by the standard deviation\n",
    "(df.iloc[1,1] - df.iloc[:,1].mean()) / df.iloc[:,1].std(ddof=1)"
   ]
  },
  {
   "cell_type": "code",
   "execution_count": 116,
   "metadata": {},
   "outputs": [],
   "source": [
    "# So ideally now we need to prepare the data, i.e we try to predict the upcoming open price based on previous 14 days feature values\n",
    "# We are training the model for the entire data, there's no validation or test-data for this experiment\n",
    "\n",
    "scaled_X = []\n",
    "scaled_Y = []\n",
    "window_size = 14\n",
    "\n",
    "for i in range(len(scaled_data)-window_size):\n",
    "    scaled_X.append(scaled_data[i:i+window_size,:])\n",
    "    scaled_Y.append(scaled_data[i+window_size,-1])\n",
    "\n",
    "scaled_X, scaled_Y = np.array(scaled_X), np.array(scaled_Y)"
   ]
  },
  {
   "cell_type": "code",
   "execution_count": 117,
   "metadata": {},
   "outputs": [
    {
     "data": {
      "text/plain": [
       "((12810, 14, 5), (12810,))"
      ]
     },
     "execution_count": 117,
     "metadata": {},
     "output_type": "execute_result"
    }
   ],
   "source": [
    "scaled_X.shape, scaled_Y.shape"
   ]
  },
  {
   "cell_type": "markdown",
   "metadata": {},
   "source": [
    "> Training an LSTM with a 1D Output\n",
    "\n",
    "    If you want to train an LSTM where the output layer has 1 unit (e.g., predicting a single scalar value per time step), you need to reshape the scaled_Y array to match the expected shape for training. LSTMs expect their target (Y) data to be at least 2D, where the second dimension corresponds to the number of output features."
   ]
  },
  {
   "cell_type": "code",
   "execution_count": 118,
   "metadata": {},
   "outputs": [
    {
     "data": {
      "text/plain": [
       "((12810, 14, 5), (12810, 1))"
      ]
     },
     "execution_count": 118,
     "metadata": {},
     "output_type": "execute_result"
    }
   ],
   "source": [
    "scaled_Y = scaled_Y.reshape((scaled_Y.shape[0],1))\n",
    "scaled_X.shape, scaled_Y.shape"
   ]
  },
  {
   "cell_type": "markdown",
   "metadata": {},
   "source": [
    "**Note** : The train data (scaled_X) ideally has 12810 observations where each observation being a 2D array of size 14 x 5 (14 rows and 5 columns)"
   ]
  },
  {
   "cell_type": "code",
   "execution_count": 119,
   "metadata": {},
   "outputs": [
    {
     "name": "stderr",
     "output_type": "stream",
     "text": [
      "c:\\Users\\aswin\\Downloads\\Learning\\Time Series\\Deep Learning - LSTM - Multivariate\\.venv\\lib\\site-packages\\keras\\src\\layers\\rnn\\rnn.py:200: UserWarning: Do not pass an `input_shape`/`input_dim` argument to a layer. When using Sequential models, prefer using an `Input(shape)` object as the first layer in the model instead.\n",
      "  super().__init__(**kwargs)\n"
     ]
    },
    {
     "data": {
      "text/html": [
       "<pre style=\"white-space:pre;overflow-x:auto;line-height:normal;font-family:Menlo,'DejaVu Sans Mono',consolas,'Courier New',monospace\"><span style=\"font-weight: bold\">Model: \"sequential_3\"</span>\n",
       "</pre>\n"
      ],
      "text/plain": [
       "\u001b[1mModel: \"sequential_3\"\u001b[0m\n"
      ]
     },
     "metadata": {},
     "output_type": "display_data"
    },
    {
     "data": {
      "text/html": [
       "<pre style=\"white-space:pre;overflow-x:auto;line-height:normal;font-family:Menlo,'DejaVu Sans Mono',consolas,'Courier New',monospace\">┏━━━━━━━━━━━━━━━━━━━━━━━━━━━━━━━━━┳━━━━━━━━━━━━━━━━━━━━━━━━┳━━━━━━━━━━━━━━━┓\n",
       "┃<span style=\"font-weight: bold\"> Layer (type)                    </span>┃<span style=\"font-weight: bold\"> Output Shape           </span>┃<span style=\"font-weight: bold\">       Param # </span>┃\n",
       "┡━━━━━━━━━━━━━━━━━━━━━━━━━━━━━━━━━╇━━━━━━━━━━━━━━━━━━━━━━━━╇━━━━━━━━━━━━━━━┩\n",
       "│ lstm_6 (<span style=\"color: #0087ff; text-decoration-color: #0087ff\">LSTM</span>)                   │ (<span style=\"color: #00d7ff; text-decoration-color: #00d7ff\">None</span>, <span style=\"color: #00af00; text-decoration-color: #00af00\">14</span>, <span style=\"color: #00af00; text-decoration-color: #00af00\">64</span>)         │        <span style=\"color: #00af00; text-decoration-color: #00af00\">17,920</span> │\n",
       "├─────────────────────────────────┼────────────────────────┼───────────────┤\n",
       "│ lstm_7 (<span style=\"color: #0087ff; text-decoration-color: #0087ff\">LSTM</span>)                   │ (<span style=\"color: #00d7ff; text-decoration-color: #00d7ff\">None</span>, <span style=\"color: #00af00; text-decoration-color: #00af00\">32</span>)             │        <span style=\"color: #00af00; text-decoration-color: #00af00\">12,416</span> │\n",
       "├─────────────────────────────────┼────────────────────────┼───────────────┤\n",
       "│ dropout_2 (<span style=\"color: #0087ff; text-decoration-color: #0087ff\">Dropout</span>)             │ (<span style=\"color: #00d7ff; text-decoration-color: #00d7ff\">None</span>, <span style=\"color: #00af00; text-decoration-color: #00af00\">32</span>)             │             <span style=\"color: #00af00; text-decoration-color: #00af00\">0</span> │\n",
       "├─────────────────────────────────┼────────────────────────┼───────────────┤\n",
       "│ dense_3 (<span style=\"color: #0087ff; text-decoration-color: #0087ff\">Dense</span>)                 │ (<span style=\"color: #00d7ff; text-decoration-color: #00d7ff\">None</span>, <span style=\"color: #00af00; text-decoration-color: #00af00\">1</span>)              │            <span style=\"color: #00af00; text-decoration-color: #00af00\">33</span> │\n",
       "└─────────────────────────────────┴────────────────────────┴───────────────┘\n",
       "</pre>\n"
      ],
      "text/plain": [
       "┏━━━━━━━━━━━━━━━━━━━━━━━━━━━━━━━━━┳━━━━━━━━━━━━━━━━━━━━━━━━┳━━━━━━━━━━━━━━━┓\n",
       "┃\u001b[1m \u001b[0m\u001b[1mLayer (type)                   \u001b[0m\u001b[1m \u001b[0m┃\u001b[1m \u001b[0m\u001b[1mOutput Shape          \u001b[0m\u001b[1m \u001b[0m┃\u001b[1m \u001b[0m\u001b[1m      Param #\u001b[0m\u001b[1m \u001b[0m┃\n",
       "┡━━━━━━━━━━━━━━━━━━━━━━━━━━━━━━━━━╇━━━━━━━━━━━━━━━━━━━━━━━━╇━━━━━━━━━━━━━━━┩\n",
       "│ lstm_6 (\u001b[38;5;33mLSTM\u001b[0m)                   │ (\u001b[38;5;45mNone\u001b[0m, \u001b[38;5;34m14\u001b[0m, \u001b[38;5;34m64\u001b[0m)         │        \u001b[38;5;34m17,920\u001b[0m │\n",
       "├─────────────────────────────────┼────────────────────────┼───────────────┤\n",
       "│ lstm_7 (\u001b[38;5;33mLSTM\u001b[0m)                   │ (\u001b[38;5;45mNone\u001b[0m, \u001b[38;5;34m32\u001b[0m)             │        \u001b[38;5;34m12,416\u001b[0m │\n",
       "├─────────────────────────────────┼────────────────────────┼───────────────┤\n",
       "│ dropout_2 (\u001b[38;5;33mDropout\u001b[0m)             │ (\u001b[38;5;45mNone\u001b[0m, \u001b[38;5;34m32\u001b[0m)             │             \u001b[38;5;34m0\u001b[0m │\n",
       "├─────────────────────────────────┼────────────────────────┼───────────────┤\n",
       "│ dense_3 (\u001b[38;5;33mDense\u001b[0m)                 │ (\u001b[38;5;45mNone\u001b[0m, \u001b[38;5;34m1\u001b[0m)              │            \u001b[38;5;34m33\u001b[0m │\n",
       "└─────────────────────────────────┴────────────────────────┴───────────────┘\n"
      ]
     },
     "metadata": {},
     "output_type": "display_data"
    },
    {
     "data": {
      "text/html": [
       "<pre style=\"white-space:pre;overflow-x:auto;line-height:normal;font-family:Menlo,'DejaVu Sans Mono',consolas,'Courier New',monospace\"><span style=\"font-weight: bold\"> Total params: </span><span style=\"color: #00af00; text-decoration-color: #00af00\">30,369</span> (118.63 KB)\n",
       "</pre>\n"
      ],
      "text/plain": [
       "\u001b[1m Total params: \u001b[0m\u001b[38;5;34m30,369\u001b[0m (118.63 KB)\n"
      ]
     },
     "metadata": {},
     "output_type": "display_data"
    },
    {
     "data": {
      "text/html": [
       "<pre style=\"white-space:pre;overflow-x:auto;line-height:normal;font-family:Menlo,'DejaVu Sans Mono',consolas,'Courier New',monospace\"><span style=\"font-weight: bold\"> Trainable params: </span><span style=\"color: #00af00; text-decoration-color: #00af00\">30,369</span> (118.63 KB)\n",
       "</pre>\n"
      ],
      "text/plain": [
       "\u001b[1m Trainable params: \u001b[0m\u001b[38;5;34m30,369\u001b[0m (118.63 KB)\n"
      ]
     },
     "metadata": {},
     "output_type": "display_data"
    },
    {
     "data": {
      "text/html": [
       "<pre style=\"white-space:pre;overflow-x:auto;line-height:normal;font-family:Menlo,'DejaVu Sans Mono',consolas,'Courier New',monospace\"><span style=\"font-weight: bold\"> Non-trainable params: </span><span style=\"color: #00af00; text-decoration-color: #00af00\">0</span> (0.00 B)\n",
       "</pre>\n"
      ],
      "text/plain": [
       "\u001b[1m Non-trainable params: \u001b[0m\u001b[38;5;34m0\u001b[0m (0.00 B)\n"
      ]
     },
     "metadata": {},
     "output_type": "display_data"
    },
    {
     "name": "stdout",
     "output_type": "stream",
     "text": [
      "None\n"
     ]
    }
   ],
   "source": [
    "model = Sequential()\n",
    "model.add(LSTM(units=64,return_sequences=True,input_shape=(scaled_X.shape[1],scaled_X.shape[2])))\n",
    "model.add(LSTM(units=32,return_sequences=False))\n",
    "model.add(Dropout(0.2))\n",
    "model.add(Dense(scaled_Y.shape[1]))\n",
    "model.compile(metrics=['acc'],optimizer='adam',loss='mean_squared_error')\n",
    "print(model.summary())"
   ]
  },
  {
   "cell_type": "markdown",
   "metadata": {},
   "source": [
    "I've totally 5 features incoming to the LSTM layer while LSTM layer has 64 units. The calculation goes as follows:\n",
    " > Weights = 64*5 = 320\n",
    "\n",
    " > Biases = 64\n",
    "\n",
    " > Recursive weights = 64*64 = 4096\n",
    "\n",
    " > For a single gate the number of parameters = 320 + 64 + 4096 = 4480\n",
    "\n",
    " > Therefore for 4 gates, it's 4*4480 = 17920\n",
    "\n",
    " Similar calucaltion for the next layer - features:64, units:32\n",
    "\n",
    "( (64x32) weights + 32 biases + 32x32 recursive weights )*4 = 12416 parameters"
   ]
  },
  {
   "cell_type": "code",
   "execution_count": 120,
   "metadata": {},
   "outputs": [
    {
     "data": {
      "text/plain": [
       "12810"
      ]
     },
     "execution_count": 120,
     "metadata": {},
     "output_type": "execute_result"
    }
   ],
   "source": [
    "len(scaled_X)"
   ]
  },
  {
   "cell_type": "code",
   "execution_count": 121,
   "metadata": {},
   "outputs": [
    {
     "name": "stdout",
     "output_type": "stream",
     "text": [
      "Epoch 1/10\n",
      "\u001b[1m721/721\u001b[0m \u001b[32m━━━━━━━━━━━━━━━━━━━━\u001b[0m\u001b[37m\u001b[0m \u001b[1m6s\u001b[0m 6ms/step - acc: 0.0000e+00 - loss: 0.0460 - val_acc: 0.0000e+00 - val_loss: 0.0019\n",
      "Epoch 2/10\n",
      "\u001b[1m721/721\u001b[0m \u001b[32m━━━━━━━━━━━━━━━━━━━━\u001b[0m\u001b[37m\u001b[0m \u001b[1m4s\u001b[0m 6ms/step - acc: 0.0000e+00 - loss: 0.0124 - val_acc: 0.0000e+00 - val_loss: 0.0010\n",
      "Epoch 3/10\n",
      "\u001b[1m721/721\u001b[0m \u001b[32m━━━━━━━━━━━━━━━━━━━━\u001b[0m\u001b[37m\u001b[0m \u001b[1m4s\u001b[0m 6ms/step - acc: 0.0000e+00 - loss: 0.0112 - val_acc: 0.0000e+00 - val_loss: 8.4988e-04\n",
      "Epoch 4/10\n",
      "\u001b[1m721/721\u001b[0m \u001b[32m━━━━━━━━━━━━━━━━━━━━\u001b[0m\u001b[37m\u001b[0m \u001b[1m4s\u001b[0m 6ms/step - acc: 0.0000e+00 - loss: 0.0102 - val_acc: 0.0000e+00 - val_loss: 0.0017\n",
      "Epoch 5/10\n",
      "\u001b[1m721/721\u001b[0m \u001b[32m━━━━━━━━━━━━━━━━━━━━\u001b[0m\u001b[37m\u001b[0m \u001b[1m4s\u001b[0m 6ms/step - acc: 0.0000e+00 - loss: 0.0099 - val_acc: 0.0000e+00 - val_loss: 9.2851e-04\n",
      "Epoch 6/10\n",
      "\u001b[1m721/721\u001b[0m \u001b[32m━━━━━━━━━━━━━━━━━━━━\u001b[0m\u001b[37m\u001b[0m \u001b[1m4s\u001b[0m 6ms/step - acc: 0.0000e+00 - loss: 0.0097 - val_acc: 0.0000e+00 - val_loss: 7.6444e-04\n",
      "Epoch 7/10\n",
      "\u001b[1m721/721\u001b[0m \u001b[32m━━━━━━━━━━━━━━━━━━━━\u001b[0m\u001b[37m\u001b[0m \u001b[1m4s\u001b[0m 6ms/step - acc: 0.0000e+00 - loss: 0.0103 - val_acc: 0.0000e+00 - val_loss: 0.0014\n",
      "Epoch 8/10\n",
      "\u001b[1m721/721\u001b[0m \u001b[32m━━━━━━━━━━━━━━━━━━━━\u001b[0m\u001b[37m\u001b[0m \u001b[1m4s\u001b[0m 6ms/step - acc: 0.0000e+00 - loss: 0.0099 - val_acc: 0.0000e+00 - val_loss: 0.0012\n",
      "Epoch 9/10\n",
      "\u001b[1m721/721\u001b[0m \u001b[32m━━━━━━━━━━━━━━━━━━━━\u001b[0m\u001b[37m\u001b[0m \u001b[1m4s\u001b[0m 6ms/step - acc: 0.0000e+00 - loss: 0.0099 - val_acc: 0.0000e+00 - val_loss: 0.0012\n",
      "Epoch 10/10\n",
      "\u001b[1m721/721\u001b[0m \u001b[32m━━━━━━━━━━━━━━━━━━━━\u001b[0m\u001b[37m\u001b[0m \u001b[1m4s\u001b[0m 6ms/step - acc: 0.0000e+00 - loss: 0.0099 - val_acc: 0.0000e+00 - val_loss: 4.8431e-04\n"
     ]
    }
   ],
   "source": [
    "# Now we have the model architecture in place, it's time to train our model\n",
    "\n",
    "history = model.fit(scaled_X,scaled_Y,validation_split=0.1,epochs=10,batch_size=16)"
   ]
  },
  {
   "cell_type": "markdown",
   "metadata": {},
   "source": [
    "What is Batch Size?\n",
    "\n",
    "Batch size refers to the number of samples (rows of data) that the model processes in a single forward and backward pass.\n",
    "After processing each batch, the model updates its weights using the computed loss.\n",
    "Types of Batch Sizes\n",
    "Small Batch Size (e.g., 1 or 16):\n",
    "\n",
    "Fewer samples per batch.\n",
    "Requires more updates (iterations) to complete one epoch.\n",
    "May generalize better but takes longer to train.\n",
    "Large Batch Size (e.g., 64, 128, or more):\n",
    "\n",
    "More samples per batch.\n",
    "Requires fewer updates to complete an epoch.\n",
    "Training is faster but can converge to poorer solutions.\n",
    "\n",
    "Let's say we have hundred samples with 20 as batch-size. So to complete one epoch the weights are updated 5 times"
   ]
  },
  {
   "cell_type": "markdown",
   "metadata": {},
   "source": [
    "Here 721 refers to the number of batches for each epoch. Note that we use only 90% of the data for training and rest 10% for validation. Hence, the number os samples utilized for training is 0.9*12810 = 11529. Since batch size is 16, the number of batches = 11529/16 = 721"
   ]
  },
  {
   "cell_type": "code",
   "execution_count": 122,
   "metadata": {},
   "outputs": [
    {
     "data": {
      "text/plain": [
       "[<matplotlib.lines.Line2D at 0x1d833afdcf0>]"
      ]
     },
     "execution_count": 122,
     "metadata": {},
     "output_type": "execute_result"
    },
    {
     "data": {
      "image/png": "[encoded data removed]",
      "text/plain": [
       "<Figure size 640x480 with 1 Axes>"
      ]
     },
     "metadata": {},
     "output_type": "display_data"
    }
   ],
   "source": [
    "plt.plot(history.history['loss'])\n",
    "plt.plot(history.history['val_loss'])"
   ]
  },
  {
   "cell_type": "code",
   "execution_count": 129,
   "metadata": {},
   "outputs": [
    {
     "name": "stdout",
     "output_type": "stream",
     "text": [
      "\u001b[1m401/401\u001b[0m \u001b[32m━━━━━━━━━━━━━━━━━━━━\u001b[0m\u001b[37m\u001b[0m \u001b[1m1s\u001b[0m 2ms/step\n"
     ]
    }
   ],
   "source": [
    "y_preds = model.predict(scaled_X)"
   ]
  },
  {
   "cell_type": "markdown",
   "metadata": {},
   "source": [
    "Need to compute the model performance on the overall data"
   ]
  },
  {
   "cell_type": "code",
   "execution_count": null,
   "metadata": {},
   "outputs": [
    {
     "ename": "ValueError",
     "evalue": "non-broadcastable output operand with shape (12810,1) doesn't match the broadcast shape (12810,5)",
     "output_type": "error",
     "traceback": [
      "\u001b[1;31m---------------------------------------------------------------------------\u001b[0m",
      "\u001b[1;31mValueError\u001b[0m                                Traceback (most recent call last)",
      "Cell \u001b[1;32mIn[146], line 1\u001b[0m\n\u001b[1;32m----> 1\u001b[0m \u001b[43mscaler\u001b[49m\u001b[38;5;241;43m.\u001b[39;49m\u001b[43minverse_transform\u001b[49m\u001b[43m(\u001b[49m\u001b[43mscaled_Y\u001b[49m\u001b[43m)\u001b[49m\n",
      "File \u001b[1;32mc:\\Users\\aswin\\Downloads\\Learning\\Time Series\\Deep Learning - LSTM - Multivariate\\.venv\\lib\\site-packages\\sklearn\\preprocessing\\_data.py:1107\u001b[0m, in \u001b[0;36mStandardScaler.inverse_transform\u001b[1;34m(self, X, copy)\u001b[0m\n\u001b[0;32m   1105\u001b[0m \u001b[38;5;28;01melse\u001b[39;00m:\n\u001b[0;32m   1106\u001b[0m     \u001b[38;5;28;01mif\u001b[39;00m \u001b[38;5;28mself\u001b[39m\u001b[38;5;241m.\u001b[39mwith_std:\n\u001b[1;32m-> 1107\u001b[0m         X \u001b[38;5;241m*\u001b[39m\u001b[38;5;241m=\u001b[39m \u001b[38;5;28mself\u001b[39m\u001b[38;5;241m.\u001b[39mscale_\n\u001b[0;32m   1108\u001b[0m     \u001b[38;5;28;01mif\u001b[39;00m \u001b[38;5;28mself\u001b[39m\u001b[38;5;241m.\u001b[39mwith_mean:\n\u001b[0;32m   1109\u001b[0m         X \u001b[38;5;241m+\u001b[39m\u001b[38;5;241m=\u001b[39m \u001b[38;5;28mself\u001b[39m\u001b[38;5;241m.\u001b[39mmean_\n",
      "\u001b[1;31mValueError\u001b[0m: non-broadcastable output operand with shape (12810,1) doesn't match the broadcast shape (12810,5)"
     ]
    }
   ],
   "source": [
    "# Error since scaler was trained on 5 columns while inverting our data has only 1 column\n",
    "scaler.inverse_transform(scaled_Y)"
   ]
  },
  {
   "cell_type": "code",
   "execution_count": 139,
   "metadata": {},
   "outputs": [],
   "source": [
    "# Note that the scaler transformation model was trained on 5 columns while we the data that needs to be inverted has only 1 column\n",
    "\n",
    "y_actual_inverse = scaler.inverse_transform(np.repeat(scaled_Y,5,axis=1))[:,-1]\n",
    "y_preds_inverse = scaler.inverse_transform(np.repeat(y_preds,5,axis=1))[:,-1]"
   ]
  },
  {
   "cell_type": "code",
   "execution_count": null,
   "metadata": {},
   "outputs": [
    {
     "data": {
      "text/plain": [
       "np.float64(1.3340267881446726)"
      ]
     },
     "execution_count": 140,
     "metadata": {},
     "output_type": "execute_result"
    }
   ],
   "source": [
    "# Model evaluation metrics\n",
    "root_mean_squared_error(y_actual_inverse,y_preds_inverse)"
   ]
  },
  {
   "cell_type": "code",
   "execution_count": 143,
   "metadata": {},
   "outputs": [
    {
     "data": {
      "text/plain": [
       "<matplotlib.legend.Legend at 0x1d83acbe230>"
      ]
     },
     "execution_count": 143,
     "metadata": {},
     "output_type": "execute_result"
    },
    {
     "data": {
      "image/png": "[encoded data removed]",
      "text/plain": [
       "<Figure size 640x480 with 1 Axes>"
      ]
     },
     "metadata": {},
     "output_type": "display_data"
    }
   ],
   "source": [
    "plt.plot(y_actual_inverse)\n",
    "plt.plot(y_preds_inverse)\n",
    "plt.legend(['Actual Open Price','Predicted Open Price'],loc='upper left')"
   ]
  },
  {
   "cell_type": "code",
   "execution_count": 150,
   "metadata": {},
   "outputs": [
    {
     "data": {
      "text/plain": [
       "12724   2020-06-11\n",
       "12725   2020-06-12\n",
       "12726   2020-06-15\n",
       "12727   2020-06-16\n",
       "12728   2020-06-17\n",
       "           ...    \n",
       "12819   2020-10-26\n",
       "12820   2020-10-27\n",
       "12821   2020-10-28\n",
       "12822   2020-10-29\n",
       "12823   2020-10-30\n",
       "Name: Date, Length: 100, dtype: datetime64[ns]"
      ]
     },
     "execution_count": 150,
     "metadata": {},
     "output_type": "execute_result"
    }
   ],
   "source": [
    "df.Date[-100:]"
   ]
  },
  {
   "cell_type": "code",
   "execution_count": 151,
   "metadata": {},
   "outputs": [
    {
     "data": {
      "text/plain": [
       "<matplotlib.legend.Legend at 0x1d840df88e0>"
      ]
     },
     "execution_count": 151,
     "metadata": {},
     "output_type": "execute_result"
    },
    {
     "data": {
      "image/png": "[encoded data removed]",
      "text/plain": [
       "<Figure size 640x480 with 1 Axes>"
      ]
     },
     "metadata": {},
     "output_type": "display_data"
    }
   ],
   "source": [
    "plt.plot(df.Date[-100:],y_actual_inverse[-100:])\n",
    "plt.plot(df.Date[-100:],y_preds_inverse[-100:])\n",
    "plt.legend(['Actual Open Price','Predicted Open Price'],loc='upper center')"
   ]
  },
  {
   "cell_type": "code",
   "execution_count": 148,
   "metadata": {},
   "outputs": [
    {
     "data": {
      "text/plain": [
       "Timestamp('2020-10-30 00:00:00')"
      ]
     },
     "execution_count": 148,
     "metadata": {},
     "output_type": "execute_result"
    }
   ],
   "source": [
    "df.Date.max()"
   ]
  },
  {
   "cell_type": "markdown",
   "metadata": {},
   "source": [
    "#### Forecast for the future"
   ]
  },
  {
   "cell_type": "markdown",
   "metadata": {},
   "source": [
    "**Now let's predict the open price of the stock in future - On 31st October 2020, we need to first create the test observation**"
   ]
  },
  {
   "cell_type": "code",
   "execution_count": 156,
   "metadata": {},
   "outputs": [
    {
     "data": {
      "text/plain": [
       "array([[-0.26333202, -0.53266003, -0.5304949 , -0.53186204, -0.52766545],\n",
       "       [-0.25246387, -0.52524238, -0.52535845, -0.52735956, -0.53285825],\n",
       "       [-0.24702946, -0.5215335 , -0.52609224, -0.53561414, -0.53434188],\n",
       "       [-0.20138277, -0.4903794 , -0.49160487, -0.51085027, -0.51505448],\n",
       "       [-0.20138277, -0.4903794 , -0.48279961, -0.4890881 , -0.48315611],\n",
       "       [-0.19594852, -0.48667058, -0.48646847, -0.48608639, -0.48612338],\n",
       "       [-0.19812227, -0.4881541 , -0.48720227, -0.48608639, -0.49131618],\n",
       "       [-0.1546489 , -0.45848352, -0.46225395, -0.48233429, -0.48760701],\n",
       "       [-0.16443031, -0.46515938, -0.4417083 , -0.46432417, -0.44309768],\n",
       "       [-0.19160102, -0.48370355, -0.47619562, -0.485336  , -0.47796337],\n",
       "       [-0.22203232, -0.50447291, -0.48793601, -0.49959396, -0.48241427],\n",
       "       [-0.18725378, -0.48073645, -0.45418243, -0.47558053, -0.4742542 ],\n",
       "       [-0.19268794, -0.48444528, -0.46298769, -0.48308473, -0.46312687],\n",
       "       [-0.18725378, -0.48073645, -0.47766321, -0.48458556, -0.48686523]])"
      ]
     },
     "execution_count": 156,
     "metadata": {},
     "output_type": "execute_result"
    }
   ],
   "source": [
    "# Extracting the last 14 observations from the scaled data \n",
    "test_obs = scaled_data[-14:,:]\n",
    "test_obs"
   ]
  },
  {
   "cell_type": "code",
   "execution_count": 158,
   "metadata": {},
   "outputs": [
    {
     "data": {
      "text/plain": [
       "(14, 5)"
      ]
     },
     "execution_count": 158,
     "metadata": {},
     "output_type": "execute_result"
    }
   ],
   "source": [
    "test_obs.shape"
   ]
  },
  {
   "cell_type": "code",
   "execution_count": 159,
   "metadata": {},
   "outputs": [
    {
     "data": {
      "text/plain": [
       "(12810, 14, 5)"
      ]
     },
     "execution_count": 159,
     "metadata": {},
     "output_type": "execute_result"
    }
   ],
   "source": [
    "scaled_X.shape"
   ]
  },
  {
   "cell_type": "code",
   "execution_count": 157,
   "metadata": {},
   "outputs": [
    {
     "ename": "ValueError",
     "evalue": "Exception encountered when calling Sequential.call().\n\n\u001b[1mCannot take the length of shape with unknown rank.\u001b[0m\n\nArguments received by Sequential.call():\n  • inputs=tf.Tensor(shape=<unknown>, dtype=float32)\n  • training=False\n  • mask=None",
     "output_type": "error",
     "traceback": [
      "\u001b[1;31m---------------------------------------------------------------------------\u001b[0m",
      "\u001b[1;31mValueError\u001b[0m                                Traceback (most recent call last)",
      "Cell \u001b[1;32mIn[157], line 1\u001b[0m\n\u001b[1;32m----> 1\u001b[0m \u001b[43mmodel\u001b[49m\u001b[38;5;241;43m.\u001b[39;49m\u001b[43mpredict\u001b[49m\u001b[43m(\u001b[49m\u001b[43mtest_obs\u001b[49m\u001b[43m)\u001b[49m\n",
      "File \u001b[1;32mc:\\Users\\aswin\\Downloads\\Learning\\Time Series\\Deep Learning - LSTM - Multivariate\\.venv\\lib\\site-packages\\keras\\src\\utils\\traceback_utils.py:122\u001b[0m, in \u001b[0;36mfilter_traceback.<locals>.error_handler\u001b[1;34m(*args, **kwargs)\u001b[0m\n\u001b[0;32m    119\u001b[0m     filtered_tb \u001b[38;5;241m=\u001b[39m _process_traceback_frames(e\u001b[38;5;241m.\u001b[39m__traceback__)\n\u001b[0;32m    120\u001b[0m     \u001b[38;5;66;03m# To get the full stack trace, call:\u001b[39;00m\n\u001b[0;32m    121\u001b[0m     \u001b[38;5;66;03m# `keras.config.disable_traceback_filtering()`\u001b[39;00m\n\u001b[1;32m--> 122\u001b[0m     \u001b[38;5;28;01mraise\u001b[39;00m e\u001b[38;5;241m.\u001b[39mwith_traceback(filtered_tb) \u001b[38;5;28;01mfrom\u001b[39;00m \u001b[38;5;28;01mNone\u001b[39;00m\n\u001b[0;32m    123\u001b[0m \u001b[38;5;28;01mfinally\u001b[39;00m:\n\u001b[0;32m    124\u001b[0m     \u001b[38;5;28;01mdel\u001b[39;00m filtered_tb\n",
      "File \u001b[1;32mc:\\Users\\aswin\\Downloads\\Learning\\Time Series\\Deep Learning - LSTM - Multivariate\\.venv\\lib\\site-packages\\keras\\src\\utils\\traceback_utils.py:122\u001b[0m, in \u001b[0;36mfilter_traceback.<locals>.error_handler\u001b[1;34m(*args, **kwargs)\u001b[0m\n\u001b[0;32m    119\u001b[0m     filtered_tb \u001b[38;5;241m=\u001b[39m _process_traceback_frames(e\u001b[38;5;241m.\u001b[39m__traceback__)\n\u001b[0;32m    120\u001b[0m     \u001b[38;5;66;03m# To get the full stack trace, call:\u001b[39;00m\n\u001b[0;32m    121\u001b[0m     \u001b[38;5;66;03m# `keras.config.disable_traceback_filtering()`\u001b[39;00m\n\u001b[1;32m--> 122\u001b[0m     \u001b[38;5;28;01mraise\u001b[39;00m e\u001b[38;5;241m.\u001b[39mwith_traceback(filtered_tb) \u001b[38;5;28;01mfrom\u001b[39;00m \u001b[38;5;28;01mNone\u001b[39;00m\n\u001b[0;32m    123\u001b[0m \u001b[38;5;28;01mfinally\u001b[39;00m:\n\u001b[0;32m    124\u001b[0m     \u001b[38;5;28;01mdel\u001b[39;00m filtered_tb\n",
      "\u001b[1;31mValueError\u001b[0m: Exception encountered when calling Sequential.call().\n\n\u001b[1mCannot take the length of shape with unknown rank.\u001b[0m\n\nArguments received by Sequential.call():\n  • inputs=tf.Tensor(shape=<unknown>, dtype=float32)\n  • training=False\n  • mask=None"
     ]
    }
   ],
   "source": [
    "model.predict(test_obs)"
   ]
  },
  {
   "cell_type": "code",
   "execution_count": 162,
   "metadata": {},
   "outputs": [
    {
     "data": {
      "text/plain": [
       "(1, 14, 5)"
      ]
     },
     "execution_count": 162,
     "metadata": {},
     "output_type": "execute_result"
    }
   ],
   "source": [
    "# Model expects the data to be in 3 dimensions\n",
    "\n",
    "test_obs_reshaped = test_obs.reshape(1,test_obs.shape[0],test_obs.shape[1])\n",
    "test_obs_reshaped.shape"
   ]
  },
  {
   "cell_type": "code",
   "execution_count": 164,
   "metadata": {},
   "outputs": [
    {
     "name": "stdout",
     "output_type": "stream",
     "text": [
      "\u001b[1m1/1\u001b[0m \u001b[32m━━━━━━━━━━━━━━━━━━━━\u001b[0m\u001b[37m\u001b[0m \u001b[1m0s\u001b[0m 26ms/step\n"
     ]
    },
    {
     "data": {
      "text/plain": [
       "array([[-0.4673099]], dtype=float32)"
      ]
     },
     "execution_count": 164,
     "metadata": {},
     "output_type": "execute_result"
    }
   ],
   "source": [
    "# Now let's try to predict the data\n",
    "future_pred = model.predict(test_obs_reshaped)\n",
    "future_pred"
   ]
  },
  {
   "cell_type": "code",
   "execution_count": 169,
   "metadata": {},
   "outputs": [
    {
     "data": {
      "text/plain": [
       "array([[-0.4673099, -0.4673099, -0.4673099, -0.4673099, -0.4673099]],\n",
       "      dtype=float32)"
      ]
     },
     "execution_count": 169,
     "metadata": {},
     "output_type": "execute_result"
    }
   ],
   "source": [
    "np.repeat(future_pred,5,axis=1)"
   ]
  },
  {
   "cell_type": "code",
   "execution_count": 173,
   "metadata": {},
   "outputs": [
    {
     "data": {
      "text/plain": [
       "np.float32(37.897427)"
      ]
     },
     "execution_count": 173,
     "metadata": {},
     "output_type": "execute_result"
    }
   ],
   "source": [
    "future_pred_inverse = scaler.inverse_transform(np.repeat(future_pred,5,axis=1))[:,-1]\n",
    "future_pred_inverse[0]"
   ]
  },
  {
   "cell_type": "markdown",
   "metadata": {},
   "source": [
    "**So the forecasted stock open price on the 31st of October 2020 is 37.897 rupees**\n",
    "\n",
    "**Note**:\n",
    "\n",
    "> We can forecast beyond one day becasue we don't have the data corresponding to it.\n",
    "\n",
    "> E.g: Let's say today is 30-10-2020 and we are predicting the stock open-price on 31-10-2020. To predict the stock price on 01-11-2020 we require the close, adj close, high, low while only open(prediction on 31-10-2020) is available. Hence, we cannot forecast beyond one day in muti-variate time series models unless the future values of these exogenous variables are known."
   ]
  }
 ],
 "metadata": {
  "kernelspec": {
   "display_name": ".venv",
   "language": "python",
   "name": "python3"
  },
  "language_info": {
   "codemirror_mode": {
    "name": "ipython",
    "version": 3
   },
   "file_extension": ".py",
   "mimetype": "text/x-python",
   "name": "python",
   "nbconvert_exporter": "python",
   "pygments_lexer": "ipython3",
   "version": "3.10.9"
  }
 },
 "nbformat": 4,
 "nbformat_minor": 2
}
